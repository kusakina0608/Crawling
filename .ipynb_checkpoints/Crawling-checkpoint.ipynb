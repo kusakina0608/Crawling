{
 "cells": [
  {
   "cell_type": "code",
   "execution_count": null,
   "metadata": {},
   "outputs": [],
   "source": []
  },
  {
   "cell_type": "code",
   "execution_count": 1,
   "metadata": {},
   "outputs": [],
   "source": [
    "from selenium import webdriver\n",
    "\n",
    "driver = webdriver.Chrome('./ChromeDriver/chromedriver')"
   ]
  },
  {
   "cell_type": "markdown",
   "metadata": {},
   "source": [
    "#### 맥도날드 메뉴 읽어오기"
   ]
  },
  {
   "cell_type": "code",
   "execution_count": 2,
   "metadata": {},
   "outputs": [
    {
     "name": "stdout",
     "output_type": "stream",
     "text": [
      "베이컨 토마토 머핀\n"
     ]
    }
   ],
   "source": [
    "driver.get('http://mcdonalds.co.kr/kor/main.do')\n",
    "driver.find_element_by_class_name('srch').click()\n",
    "driver.find_element_by_id('commonSearchWord').send_keys('토마토')\n",
    "driver.find_element_by_class_name('btnMC').click()\n",
    "\n",
    "print(driver.find_element_by_xpath('/html/body/div[2]/section/div[1]/div[2]/div/div/div[2]/div/ul/li[2]/a/div[2]/strong').text)"
   ]
  },
  {
   "cell_type": "code",
   "execution_count": null,
   "metadata": {},
   "outputs": [],
   "source": [
    "driver.get('https://www.youtube.com/')\n",
    "driver.find_element_by_xpath('//*[@id=\"search\"]').send_keys('서새봄')"
   ]
  },
  {
   "cell_type": "markdown",
   "metadata": {},
   "source": [
    "#### 네이버 자동 로그인"
   ]
  },
  {
   "cell_type": "code",
   "execution_count": 11,
   "metadata": {},
   "outputs": [],
   "source": [
    "driver.get('https://www.naver.com/')\n",
    "driver.find_element_by_xpath('/html/body/div[2]/div[3]/div[3]/div/div[2]/a').click()"
   ]
  },
  {
   "cell_type": "code",
   "execution_count": 27,
   "metadata": {},
   "outputs": [],
   "source": [
    "import time\n",
    "from selenium.webdriver.common.keys import Keys"
   ]
  },
  {
   "cell_type": "markdown",
   "metadata": {},
   "source": [
    "#### 웹툰 최신화 업데이트 알리미"
   ]
  },
  {
   "cell_type": "code",
   "execution_count": 75,
   "metadata": {},
   "outputs": [],
   "source": [
    "from selenium import webdriver\n",
    "from selenium.webdriver.common.keys import Keys\n",
    "import time\n",
    "\n",
    "driver = webdriver.Chrome('./ChromeDriver/chromedriver')"
   ]
  },
  {
   "cell_type": "markdown",
   "metadata": {},
   "source": [
    "#### 여신강림"
   ]
  },
  {
   "cell_type": "code",
   "execution_count": 76,
   "metadata": {},
   "outputs": [],
   "source": [
    "def webtoon1():\n",
    "    driver.get('https://comic.naver.com/index.nhn')\n",
    "    driver.find_element_by_class_name('Ntxt_webtoon').click()\n",
    "    driver.find_element_by_xpath('/html/body/div/div[3]/div[1]/div[4]/div[2]/div/ul/li[2]/div/a').click()\n",
    "    upload_time = driver.find_element_by_xpath('/html/body/div/div[3]/div[1]/table/tbody/tr[3]/td[4]').text\n",
    "    current_time = time.strftime('%Y.%m.%d', time.localtime(time.time()))\n",
    "    current_time = '2020.07.13'\n",
    "    if upload_time == current_time:\n",
    "        print('여신강림 최신화가 업로드 되었습니다.')\n",
    "        return True\n",
    "    return False"
   ]
  },
  {
   "cell_type": "markdown",
   "metadata": {},
   "source": [
    "#### 기기괴괴"
   ]
  },
  {
   "cell_type": "code",
   "execution_count": 77,
   "metadata": {},
   "outputs": [],
   "source": [
    "def webtoon2():\n",
    "    driver.get('https://comic.naver.com/index.nhn')\n",
    "    driver.find_element_by_class_name('Ntxt_webtoon').click()\n",
    "    driver.find_element_by_xpath('/html/body/div/div[3]/div[1]/div[4]/div[4]/div/ul/li[3]/a').click()\n",
    "    upload_time = driver.find_element_by_xpath('/html/body/div/div[3]/div[1]/table/tbody/tr[3]/td[4]').text\n",
    "    current_time = time.strftime('%Y.%m.%d', time.localtime(time.time()))\n",
    "    if upload_time == current_time:\n",
    "        print('기기괴괴 최신화가 업로드 되었습니다.')\n",
    "        return True\n",
    "    return False"
   ]
  },
  {
   "cell_type": "markdown",
   "metadata": {},
   "source": [
    "#### 외모지상주의"
   ]
  },
  {
   "cell_type": "code",
   "execution_count": 78,
   "metadata": {},
   "outputs": [],
   "source": [
    "def webtoon3():\n",
    "    driver.get('https://comic.naver.com/index.nhn')\n",
    "    driver.find_element_by_class_name('Ntxt_webtoon').click()\n",
    "    driver.find_element_by_xpath('/html/body/div/div[3]/div[1]/div[4]/div[5]/div/ul/li[1]/a').click()\n",
    "    upload_time = driver.find_element_by_xpath('/html/body/div/div[3]/div[1]/table/tbody/tr[3]/td[4]').text\n",
    "    current_time = time.strftime('%Y.%m.%d', time.localtime(time.time()))\n",
    "    if upload_time == current_time:\n",
    "        print('외모지상주의 최신화가 업로드 되었습니다.')\n",
    "        return True\n",
    "    return False"
   ]
  },
  {
   "cell_type": "code",
   "execution_count": 79,
   "metadata": {},
   "outputs": [
    {
     "name": "stdout",
     "output_type": "stream",
     "text": [
      "여신강림 최신화가 업로드 되었습니다.\n"
     ]
    }
   ],
   "source": [
    "while True:\n",
    "    if webtoon1(): break\n",
    "    if webtoon2(): break\n",
    "    if webtoon3(): break"
   ]
  }
 ],
 "metadata": {
  "kernelspec": {
   "display_name": "Python 3",
   "language": "python",
   "name": "python3"
  },
  "language_info": {
   "codemirror_mode": {
    "name": "ipython",
    "version": 3
   },
   "file_extension": ".py",
   "mimetype": "text/x-python",
   "name": "python",
   "nbconvert_exporter": "python",
   "pygments_lexer": "ipython3",
   "version": "3.7.4"
  }
 },
 "nbformat": 4,
 "nbformat_minor": 4
}
