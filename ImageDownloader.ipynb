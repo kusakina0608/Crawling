{
 "cells": [
  {
   "cell_type": "code",
   "execution_count": null,
   "metadata": {},
   "outputs": [],
   "source": [
    "import requests\n",
    "import urllib.request\n",
    "\n",
    "def find(d, k):\n",
    "    key_list = []\n",
    "    if type(d) is dict:\n",
    "        for key in d.keys():\n",
    "            if k in key: key_list.append(key)\n",
    "        return key_list\n",
    "    else: return True\n",
    "\n",
    "data = requests.get('http://api.tvmaze.com/singlesearch/shows?q=black-mirror&embed=episodes').json()\n",
    "\n",
    "# copy\n",
    "data_dic = data\n",
    "while True:\n",
    "    # Show all keys\n",
    "    if type(data_dic) is dict:\n",
    "        for key in data_dic:\n",
    "            print(key, end=', ')\n",
    "        user_input = input('\\n:')\n",
    "        keys = find(data_dic, user_input)\n",
    "        print(keys)\n",
    "        if len(keys)==1:\n",
    "            data_dic = data_dic[keys[0]]\n",
    "    else:\n",
    "        episodes_list = data_dic\n",
    "        break\n",
    "\n",
    "for i, episode in enumerate(episodes_list):\n",
    "    print('Downloading...', episode['image']['original'])\n",
    "    urllib.request.urlretrieve(episode['image']['original'], 'img' + str(i) + '.jpg')"
   ]
  }
 ],
 "metadata": {
  "kernelspec": {
   "display_name": "Python 3",
   "language": "python",
   "name": "python3"
  },
  "language_info": {
   "codemirror_mode": {
    "name": "ipython",
    "version": 3
   },
   "file_extension": ".py",
   "mimetype": "text/x-python",
   "name": "python",
   "nbconvert_exporter": "python",
   "pygments_lexer": "ipython3",
   "version": "3.7.5"
  }
 },
 "nbformat": 4,
 "nbformat_minor": 2
}
